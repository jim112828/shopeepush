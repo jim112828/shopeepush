{
 "metadata": {
  "language_info": {
   "codemirror_mode": {
    "name": "ipython",
    "version": 3
   },
   "file_extension": ".py",
   "mimetype": "text/x-python",
   "name": "python",
   "nbconvert_exporter": "python",
   "pygments_lexer": "ipython3",
   "version": 3
  },
  "orig_nbformat": 2,
  "kernelspec": {
   "name": "python_defaultSpec_1597026665688",
   "display_name": "Python 3.8.4 64-bit"
  }
 },
 "nbformat": 4,
 "nbformat_minor": 2,
 "cells": [
  {
   "cell_type": "code",
   "execution_count": 10,
   "metadata": {},
   "outputs": [],
   "source": [
    "import selenium\n",
    "import requests\n",
    "import time\n",
    "from selenium import webdriver\n",
    "from selenium.webdriver.chrome.options import Options\n",
    "from selenium.webdriver.support.ui import WebDriverWait\n",
    "from selenium.webdriver.support import expected_conditions as EC\n",
    "from selenium.webdriver.common.by import By\n",
    "from selenium.webdriver import ActionChains\n",
    "import datetime"
   ]
  },
  {
   "cell_type": "code",
   "execution_count": 93,
   "metadata": {},
   "outputs": [],
   "source": [
    "username='12345678'\n",
    "password='12345678'\n",
    "\n",
    "options = Options()\n",
    "options.add_argument(\"start-maximized\")\n",
    "driver= webdriver.Chrome(chrome_options=options,executable_path='/home/hsujimmy/Desktop/python/chromedriver')\n",
    "url='https://seller.shopee.tw/'\n",
    "driver.get(url)\n",
    "\n",
    "def writefile(str):\n",
    "    with open(\"shopee.log\",'a') as w:\n",
    "        w.write(str)\n",
    "\n",
    "def userlogin(username,password):\n",
    "\n",
    "    try:\n",
    "        user = driver.find_element_by_xpath('/html/body/div[1]/div[2]/div/div/div/div/div[3]/div/div/div/form/div[1]/div/div/div/div/input').send_keys(username)      \n",
    "    except:\n",
    "        print(\"Can not get element or user/pwd\")\n",
    "\n",
    "    finally:\n",
    "        pwd = driver.find_element_by_xpath('/html/body/div[1]/div[2]/div/div/div/div/div[3]/div/div/div/form/div[2]/div/div[1]/div/div/input').send_keys(password)\n",
    "    \n",
    "    driver.find_element_by_xpath('/html/body/div[1]/div[2]/div/div/div/div/div[3]/div/div/div/form/button').click()\n",
    "\n",
    "#still need to SMS code verify\n",
    "\n",
    "def timestamp():\n",
    "    now= datetime.datetime.now()\n",
    "    currentTime=\"{}/{}/{} {}:{}:{}\".format(now.year,now.month,now.day,now.hour,now.minute,now.second)\n",
    "    return currentTime\n",
    "\n",
    "def clickMoreAndPush():\n",
    "    \n",
    "    datas = \"\"\n",
    "    for i in range(1,6):\n",
    "        moreButton=driver.find_element_by_xpath('/html/body/div[1]/div[2]/div[2]/div/div/div/div/div/div[2]/div/div[3]/div[1]/div/div[{}]/div/div[6]/div[2]/div[1]/i'.format(i)).click()\n",
    "        \n",
    "        time.sleep(3)\n",
    "        pushIconText=driver.find_element_by_xpath('/html/body/div[{}]/ul/li[4]/div'.format(i+4)).text\n",
    "        currentStr=\"Time:{} this is {} times click remain time of text: {}\\n\".format(timestamp(),i,pushIconText)\n",
    "        datas = datas+currentStr\n",
    "        \n",
    "        if pushIconText == \"點我置頂推廣\":\n",
    "            \n",
    "            push = driver.find_element_by_xpath('/html/body/div[{}]/ul/li[4]/div'.format(i+4)).click()\n",
    "            datas = datas+ \"push success!!\\n\"\n",
    "    return datas\n",
    "\n",
    "def directToClick():\n",
    "    try:\n",
    "        directTOitem= driver.find_element_by_xpath('/html/body/div[1]/div[2]/div[1]/div[2]/ul/li[3]/ul/li[1]/a').click()\n",
    "        \n",
    "    except Exception as e:\n",
    "        directHomePage = driver.find_element_by_xpath('/html/body/div[1]/div[1]/div/div[1]/div[1]/a').click()\n",
    "        directTOitem= driver.find_element_by_xpath('/html/body/div[1]/div[2]/div[1]/div[2]/ul/li[3]/ul/li[1]/a').click()\n",
    "        print(e)\n",
    "    \n",
    "    time.sleep(5)\n",
    "    \n",
    "    try:\n",
    "        directToSquare = driver.find_element_by_xpath('/html/body/div[1]/div[2]/div[2]/div/div/div/div/div/div[2]/div/div[2]/div[2]/div[2]/div[2]/div[2]').click()\n",
    "    except Exception as e:\n",
    "        close_prompt= driver.find_element_by_xpath(\"/html/body/div[1]/div[2]/div[2]/div/div/div/div/div/div[2]/div/div[2]/div[2]/div[2]/div[2]/div[5]/div[2]/div\").click()\n",
    "        print(e)\n",
    "        \n",
    "\n"
   ]
  },
  {
   "cell_type": "code",
   "execution_count": 94,
   "metadata": {
    "tags": []
   },
   "outputs": [],
   "source": [
    "userlogin(username,password)\n"
   ]
  },
  {
   "cell_type": "code",
   "execution_count": 95,
   "metadata": {
    "tags": []
   },
   "outputs": [
    {
     "output_type": "stream",
     "name": "stdout",
     "text": "Message: element click intercepted: Element <div data-v-1c945f48=\"\" class=\"view-model-item view-radio\">...</div> is not clickable at point (1337, 343). Other element would receive the click: <svg xmlns=\"http://www.w3.org/2000/svg\" viewBox=\"0 0 32 32\">...</svg>\n  (Session info: chrome=84.0.4147.125)\n\n"
    }
   ],
   "source": [
    "directToClick()"
   ]
  },
  {
   "cell_type": "code",
   "execution_count": 96,
   "metadata": {
    "tags": []
   },
   "outputs": [
    {
     "output_type": "stream",
     "name": "stdout",
     "text": "Time:2020/8/13 17:30:15 this is 1 times click remain time of text: 03:54:50\nTime:2020/8/13 17:30:26 this is 2 times click remain time of text: 03:54:40\nTime:2020/8/13 17:30:36 this is 3 times click remain time of text: 03:54:28\nTime:2020/8/13 17:30:46 this is 4 times click remain time of text: 03:54:17\nTime:2020/8/13 17:30:55 this is 5 times click remain time of text: 03:54:07\n"
    }
   ],
   "source": [
    "clickMoreAndPush()"
   ]
  },
  {
   "cell_type": "code",
   "execution_count": 6,
   "metadata": {
    "tags": []
   },
   "outputs": [],
   "source": [
    "from datetime import datetime, timedelta\n",
    "now= datetime.now()\n",
    "nowAdd4= now + timedelta(hours=4)"
   ]
  },
  {
   "cell_type": "code",
   "execution_count": null,
   "metadata": {
    "tags": []
   },
   "outputs": [],
   "source": [
    "import threading, time, datetime\n",
    "WAIT_TIME_SECONDS = 180\n",
    "ticker=threading.Event()\n",
    "while not ticker.wait(WAIT_TIME_SECONDS):\n",
    "    text=clickMoreAndPush()\n",
    "    writefile(text)"
   ]
  },
  {
   "cell_type": "code",
   "execution_count": 74,
   "metadata": {},
   "outputs": [],
   "source": [
    ")"
   ]
  }
 ]
}