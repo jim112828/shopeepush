{
 "metadata": {
  "language_info": {
   "codemirror_mode": {
    "name": "ipython",
    "version": 3
   },
   "file_extension": ".py",
   "mimetype": "text/x-python",
   "name": "python",
   "nbconvert_exporter": "python",
   "pygments_lexer": "ipython3",
   "version": "3.8.5-final"
  },
  "orig_nbformat": 2,
  "kernelspec": {
   "name": "python_defaultSpec_1598842747446",
   "display_name": "Python 3.8.5 64-bit"
  }
 },
 "nbformat": 4,
 "nbformat_minor": 2,
 "cells": [
  {
   "cell_type": "code",
   "execution_count": 169,
   "metadata": {},
   "outputs": [],
   "source": [
    "import selenium\n",
    "import requests\n",
    "import time\n",
    "from selenium import webdriver\n",
    "from selenium.webdriver.chrome.options import Options\n",
    "import datetime\n",
    "from selenium.webdriver.common.action_chains import ActionChains"
   ]
  },
  {
   "cell_type": "code",
   "execution_count": 170,
   "metadata": {},
   "outputs": [],
   "source": [
    "\n",
    "driver= webdriver.Firefox(executable_path='/home/hsujimmy/Desktop/python/geckodriver')\n",
    "driver.maximize_window()\n",
    "url='https://seller.shopee.tw/'\n",
    "driver.get(url)\n",
    "\n",
    "def writefile(str):\n",
    "    with open(\"shopee_firefox.log\",'a') as w:\n",
    "        w.write(str)\n",
    "\n",
    "def userlogin(username,password):\n",
    "\n",
    "    try:\n",
    "        user = driver.find_element_by_xpath('/html/body/div[1]/div[2]/div/div/div/div/div[3]/div/div/div/form/div[1]/div/div/div/div/input').send_keys(username)      \n",
    "    except:\n",
    "        print(\"Can not get element or user/pwd\")\n",
    "\n",
    "    finally:\n",
    "        pwd = driver.find_element_by_xpath('/html/body/div[1]/div[2]/div/div/div/div/div[3]/div/div/div/form/div[2]/div/div[1]/div/div/input').send_keys(password)\n",
    "    \n",
    "    driver.find_element_by_xpath('/html/body/div[1]/div[2]/div/div/div/div/div[3]/div/div/div/form/button').click()\n",
    "\n",
    "#still need to SMS code verify\n",
    "\n",
    "def timestamp():\n",
    "    now= datetime.datetime.now()\n",
    "    currentTime=\"{}/{}/{} {}:{}:{}\".format(now.year,now.month,now.day,now.hour,now.minute,now.second)\n",
    "    return currentTime\n",
    "\n",
    "\n",
    "\n",
    "def directToClick():\n",
    "    try:\n",
    "        directTOitem= driver.find_element_by_xpath('/html/body/div[1]/div[2]/div[1]/div[2]/ul/li[3]/ul/li[1]/a').click()\n",
    "        \n",
    "    except Exception as e:\n",
    "        directHomePage = driver.find_element_by_xpath('/html/body/div[1]/div[1]/div/div[1]/div/div[1]/div[1]/a').click()\n",
    "        directTOitem= driver.find_element_by_xpath('/html/body/div[1]/div[2]/div[1]/div[2]/ul/li[3]/ul/li[1]/a/span').click()\n",
    "        print(e)\n",
    "    \n",
    "    time.sleep(5)\n",
    "    \n",
    "    try:\n",
    "        directToSquare = driver.find_element_by_xpath('//html/body/div[1]/div[2]/div[2]/div/div/div/div/div/div[2]/div/div[2]/div[2]/div[2]/div[2]/div[2]/i').click()\n",
    "    except Exception as e:\n",
    "        close_prompt= driver.find_element_by_xpath(\"/html/body/div[1]/div[2]/div[2]/div/div/div/div/div/div[2]/div/div[2]/div[2]/div[2]/div[2]/div[5]/div[2]/div\").click()\n",
    "        print(e)\n",
    "\n",
    "     \n",
    "\n",
    "\n",
    "def clickMoreAndPush():\n",
    "    hover = ActionChains(driver)\n",
    "    datas = \"\"\n",
    "    for i in range(1,6):\n",
    "        more=driver.find_element_by_xpath('/html/body/div[1]/div[2]/div[2]/div/div/div/div/div/div[2]/div/div[4]/div[1]/div/div[{}]/div/div[6]/div[2]/div'.format(i))\n",
    "        pushIconText=driver.find_element_by_xpath('/html/body/div[{}]/ul/li[4]/div/div'.format(i+4))\n",
    "        hover = ActionChains(driver)\n",
    "        hover.move_to_element(more).pause(3)\n",
    "        hover.click(pushIconText)\n",
    "        hover.perform()\n",
    "        currentStr=\"Time:{} this is {} times click remain time of text: {}\\n\".format(timestamp(),i,pushIconText.text)\n",
    "        print(currentStr)\n",
    "    return datas\n"
   ]
  },
  {
   "cell_type": "code",
   "execution_count": 171,
   "metadata": {},
   "outputs": [],
   "source": [
    "userlogin(username1,password1)"
   ]
  },
  {
   "cell_type": "code",
   "execution_count": 214,
   "metadata": {
    "tags": []
   },
   "outputs": [
    {
     "output_type": "stream",
     "name": "stdout",
     "text": "Time:2020/8/31 16:3:13 this is 1 times click remain time of text: 01:12:30\n\nTime:2020/8/31 16:3:17 this is 2 times click remain time of text: 01:20:28\n\nTime:2020/8/31 16:3:22 this is 3 times click remain time of text: 02:38:09\n\nTime:2020/8/31 16:3:27 this is 4 times click remain time of text: 02:38:08\n\nTime:2020/8/31 16:3:32 this is 5 times click remain time of text: 02:38:07\n\n"
    }
   ],
   "source": [
    "    for i in range(1,6):\n",
    "        more=driver.find_element_by_xpath('/html/body/div[1]/div[2]/div[2]/div/div/div/div/div/div[2]/div/div[4]/div[1]/div/div[{}]/div/div[6]/div[2]/div'.format(i))\n",
    "        pushIconText=driver.find_element_by_xpath('/html/body/div[{}]/ul/li[4]/div/div'.format(i+4))\n",
    "        hover = ActionChains(driver)\n",
    "        hover.move_to_element(more).pause(3)\n",
    "        hover.click(pushIconText)\n",
    "        hover.perform()\n",
    "        currentStr=\"Time:{} this is {} times click remain time of text: {}\\n\".format(timestamp(),i,pushIconText.text)\n",
    "        print(currentStr)"
   ]
  },
  {
   "cell_type": "code",
   "execution_count": 215,
   "metadata": {},
   "outputs": [],
   "source": [
    "def clickMoreAndPush():\n",
    "    hover = ActionChains(driver)\n",
    "    datas = \"\"\n",
    "    for i in range(1,6):\n",
    "        more=driver.find_element_by_xpath('/html/body/div[1]/div[2]/div[2]/div/div/div/div/div/div[2]/div/div[4]/div[1]/div/div[{}]/div/div[6]/div[2]/div'.format(i))\n",
    "        pushIconText=driver.find_element_by_xpath('/html/body/div[{}]/ul/li[4]/div/div'.format(i+4))\n",
    "        hover = ActionChains(driver)\n",
    "        hover.move_to_element(more).pause(3)\n",
    "        hover.click(pushIconText)\n",
    "        hover.perform()\n",
    "        currentStr=\"Time:{} this is {} times click remain time of text: {}\\n\".format(timestamp(),i,pushIconText.text)\n",
    "        print(currentStr)\n",
    "    return datas"
   ]
  },
  {
   "cell_type": "code",
   "execution_count": 216,
   "metadata": {
    "tags": []
   },
   "outputs": [
    {
     "output_type": "stream",
     "name": "stdout",
     "text": "Time:2020/8/31 16:4:16 this is 1 times click remain time of text: 01:11:16\n\nTime:2020/8/31 16:4:20 this is 2 times click remain time of text: 01:19:15\n\nTime:2020/8/31 16:4:25 this is 3 times click remain time of text: 02:36:55\n\nTime:2020/8/31 16:4:29 this is 4 times click remain time of text: 02:36:55\n\nTime:2020/8/31 16:4:34 this is 5 times click remain time of text: 02:36:54\n\n"
    },
    {
     "output_type": "execute_result",
     "data": {
      "text/plain": "''"
     },
     "metadata": {},
     "execution_count": 216
    }
   ],
   "source": [
    "clickMoreAndPush()"
   ]
  }
 ]
}